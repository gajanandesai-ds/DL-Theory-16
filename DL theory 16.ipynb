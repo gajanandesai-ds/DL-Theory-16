{
 "cells": [
  {
   "cell_type": "raw",
   "id": "80ac0dc0",
   "metadata": {},
   "source": [
    "1. Explain the Activation Functions in your own language\n",
    "a) sigmoid\n",
    "b) tanh\n",
    "c) ReLU\n",
    "d) ELU\n",
    "e) LeakyReLU\n",
    "f) swish"
   ]
  },
  {
   "cell_type": "raw",
   "id": "f7b7211a",
   "metadata": {},
   "source": [
    "ans:\n",
    "a) Sigmoid: The sigmoid activation function is a type of mathematical function used in artificial neural networks that maps any real number to a value between 0 and 1. This allows the model to make predictions based on the input data.\n",
    "\n",
    "b) Tanh: The tanh activation function is similar to the sigmoid activation function, but it maps any real number to a value between -1 and 1. This allows the model to make more accurate predictions compared to the sigmoid activation function.\n",
    "\n",
    "c) ReLU: The ReLU (Rectified Linear Unit) activation function is a type of activation function that takes any real number and outputs 0 if the number is less than 0, and the same number if it is greater than or equal to zero. This allows the model to learn from the data and make more accurate predictions.\n",
    "\n",
    "d) ELU: The ELU (Exponential Linear Unit) activation function is a type of activation function that takes any real number and outputs a negative number if the number is less than 0, and the same number if it is greater than or equal to zero. This allows the model to learn from the data and make more accurate predictions.\n",
    "\n",
    "e) LeakyReLU: The LeakyReLU activation function is similar to the ReLU activation function, but it outputs a small negative number if the input is less than 0. This helps to reduce the \"dying ReLU\" problem, where the activation function outputs 0 for all inputs.\n",
    "\n",
    "f) Swish: The swish activation function is a type of activation function that takes any real number and outputs a value in the range of -1 to 1. This allows the model to learn from the data and make more accurate predictions."
   ]
  },
  {
   "cell_type": "code",
   "execution_count": null,
   "id": "83f00a89",
   "metadata": {},
   "outputs": [],
   "source": []
  },
  {
   "cell_type": "code",
   "execution_count": null,
   "id": "d60a27d1",
   "metadata": {},
   "outputs": [],
   "source": []
  },
  {
   "cell_type": "raw",
   "id": "5e3094d5",
   "metadata": {},
   "source": [
    "2. What happens when you increase or decrease the optimizer learning rate?"
   ]
  },
  {
   "cell_type": "raw",
   "id": "72f7de02",
   "metadata": {},
   "source": [
    "ans:\n",
    "When you increase the optimizer learning rate, the optimizer is able to make larger jumps in parameter space and is more likely to find a better local minimum in a shorter amount of time. Conversely, when you decrease the optimizer learning rate, the optimizer is less likely to reach a local minimum and may take more time to find a suitable solution."
   ]
  },
  {
   "cell_type": "code",
   "execution_count": null,
   "id": "a6adbb62",
   "metadata": {},
   "outputs": [],
   "source": []
  },
  {
   "cell_type": "code",
   "execution_count": null,
   "id": "fab909b1",
   "metadata": {},
   "outputs": [],
   "source": []
  },
  {
   "cell_type": "raw",
   "id": "1cf07a61",
   "metadata": {},
   "source": [
    "3. What happens when you increase the number of internal hidden neurons?"
   ]
  },
  {
   "cell_type": "raw",
   "id": "e4780b5d",
   "metadata": {},
   "source": [
    "ans:\n",
    "Increasing the number of internal hidden neurons can help the model to better capture complex patterns in the data, leading to better performance. However, too many hidden neurons can lead to overfitting, where the model is too tailored to the training data and fails to generalize to unseen data."
   ]
  },
  {
   "cell_type": "code",
   "execution_count": null,
   "id": "14d9351d",
   "metadata": {},
   "outputs": [],
   "source": []
  },
  {
   "cell_type": "code",
   "execution_count": null,
   "id": "405f05a6",
   "metadata": {},
   "outputs": [],
   "source": []
  },
  {
   "cell_type": "raw",
   "id": "dc231e72",
   "metadata": {},
   "source": [
    "4. What happens when you increase the size of batch computation?"
   ]
  },
  {
   "cell_type": "raw",
   "id": "c87d6b6f",
   "metadata": {},
   "source": [
    "ans:\n",
    "Increasing the size of batch computation can lead to faster and more efficient training, as larger batches can be processed in parallel and allow for more efficient use of hardware resources. However, too large of a batch size can lead to longer training times and can lead to reduced accuracy."
   ]
  },
  {
   "cell_type": "code",
   "execution_count": null,
   "id": "e7d01ad0",
   "metadata": {},
   "outputs": [],
   "source": []
  },
  {
   "cell_type": "code",
   "execution_count": null,
   "id": "b1274f14",
   "metadata": {},
   "outputs": [],
   "source": []
  },
  {
   "cell_type": "raw",
   "id": "382feb67",
   "metadata": {},
   "source": [
    "5. Why we adopt regularization to avoid overfitting?"
   ]
  },
  {
   "cell_type": "raw",
   "id": "1f19d168",
   "metadata": {},
   "source": [
    "ans:\n",
    " Regularization is used to avoid overfitting by adding constraints to the model parameters, such as weight decay or dropout. This forces the model to learn more generalizable patterns in the data, rather than fitting to the noise or outliers in the training data. Regularization also helps to prevent the model from overfitting by encouraging simpler models."
   ]
  },
  {
   "cell_type": "code",
   "execution_count": null,
   "id": "80924580",
   "metadata": {},
   "outputs": [],
   "source": []
  },
  {
   "cell_type": "code",
   "execution_count": null,
   "id": "00e922a0",
   "metadata": {},
   "outputs": [],
   "source": []
  },
  {
   "cell_type": "raw",
   "id": "a710cc52",
   "metadata": {},
   "source": [
    "6. What are loss and cost functions in deep learning?"
   ]
  },
  {
   "cell_type": "raw",
   "id": "b9ec6d5d",
   "metadata": {},
   "source": [
    "ans:\n",
    "Loss and cost functions are used in deep learning to measure the performance of the model. Loss functions measure the difference between the predictions of the model and the ground truth labels, while cost functions are measures of how well the model is performing. Cost functions are typically a combination of the loss function and the regularization component."
   ]
  },
  {
   "cell_type": "code",
   "execution_count": null,
   "id": "aeff6a6f",
   "metadata": {},
   "outputs": [],
   "source": []
  },
  {
   "cell_type": "code",
   "execution_count": null,
   "id": "8f56439f",
   "metadata": {},
   "outputs": [],
   "source": []
  },
  {
   "cell_type": "raw",
   "id": "46586993",
   "metadata": {},
   "source": [
    "7. What do ou mean by underfitting in neural networks?"
   ]
  },
  {
   "cell_type": "raw",
   "id": "3de82502",
   "metadata": {},
   "source": [
    "ans:\n",
    "Underfitting occurs when a neural network model fails to capture the underlying relationships in the data, leading to low accuracy on both the training data and the unseen test data. Underfitting can be caused by not having enough neurons and layers in the model, or by not training the model for long enough."
   ]
  },
  {
   "cell_type": "code",
   "execution_count": null,
   "id": "2b0789cf",
   "metadata": {},
   "outputs": [],
   "source": []
  },
  {
   "cell_type": "raw",
   "id": "40eb7b83",
   "metadata": {},
   "source": [
    "8. Why we use Dropout in Neural Networks?"
   ]
  },
  {
   "cell_type": "raw",
   "id": "15a9ef2a",
   "metadata": {},
   "source": [
    "ans:\n",
    "Dropout is a regularization technique used in neural networks to prevent overfitting. It randomly removes neurons from the network during training, forcing the network to learn more robust representations of the data. This helps the model to generalize better to unseen data."
   ]
  },
  {
   "cell_type": "code",
   "execution_count": null,
   "id": "102ab51c",
   "metadata": {},
   "outputs": [],
   "source": []
  }
 ],
 "metadata": {
  "kernelspec": {
   "display_name": "Python 3",
   "language": "python",
   "name": "python3"
  },
  "language_info": {
   "codemirror_mode": {
    "name": "ipython",
    "version": 3
   },
   "file_extension": ".py",
   "mimetype": "text/x-python",
   "name": "python",
   "nbconvert_exporter": "python",
   "pygments_lexer": "ipython3",
   "version": "3.8.8"
  }
 },
 "nbformat": 4,
 "nbformat_minor": 5
}
